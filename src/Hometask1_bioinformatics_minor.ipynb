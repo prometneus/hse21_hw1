{
  "nbformat": 4,
  "nbformat_minor": 0,
  "metadata": {
    "colab": {
      "name": "Hometask1 bioinformatics minor.ipynb",
      "provenance": [],
      "collapsed_sections": []
    },
    "kernelspec": {
      "name": "python3",
      "display_name": "Python 3"
    },
    "language_info": {
      "name": "python"
    }
  },
  "cells": [
    {
      "cell_type": "markdown",
      "metadata": {
        "id": "Pe_OB-bHjfFN"
      },
      "source": [
        "### Libraries installing and connection"
      ]
    },
    {
      "cell_type": "code",
      "metadata": {
        "colab": {
          "base_uri": "https://localhost:8080/"
        },
        "id": "7tiHqC1LJQ_J",
        "outputId": "6445682a-8c97-4ecf-9209-bde16b20e064"
      },
      "source": [
        "!pip install biopython"
      ],
      "execution_count": 1,
      "outputs": [
        {
          "output_type": "stream",
          "name": "stdout",
          "text": [
            "Collecting biopython\n",
            "  Downloading biopython-1.79-cp37-cp37m-manylinux_2_5_x86_64.manylinux1_x86_64.whl (2.3 MB)\n",
            "\u001b[K     |████████████████████████████████| 2.3 MB 5.1 MB/s \n",
            "\u001b[?25hRequirement already satisfied: numpy in /usr/local/lib/python3.7/dist-packages (from biopython) (1.19.5)\n",
            "Installing collected packages: biopython\n",
            "Successfully installed biopython-1.79\n"
          ]
        }
      ]
    },
    {
      "cell_type": "code",
      "metadata": {
        "id": "5zC5mXBxJWZ8"
      },
      "source": [
        "import Bio\n",
        "from Bio.Seq import Seq\n",
        "from Bio import SeqIO\n",
        "import numpy as np\n",
        "import re"
      ],
      "execution_count": 2,
      "outputs": []
    },
    {
      "cell_type": "markdown",
      "metadata": {
        "id": "4U3gSGsKjpln"
      },
      "source": [
        "### Contigs analysis"
      ]
    },
    {
      "cell_type": "code",
      "metadata": {
        "id": "1jsV0YqRelgs",
        "colab": {
          "base_uri": "https://localhost:8080/"
        },
        "outputId": "d204d0de-f33c-4f73-b039-83fd724d2bff"
      },
      "source": [
        "total = []\n",
        "with open('/content/out_contig.fa', 'rt') as handle:\n",
        "  for rec in SeqIO.parse(handle, 'fasta'):\n",
        "    total.append(len(rec))\n",
        "print(f'The total number of contigs is {len(total)}')\n",
        "print(f'Their total length was {np.sum(total)}')\n",
        "print(f'the longest is {max(np.array(total))}')\n",
        "\n",
        "length, N50 = 0, 0\n",
        "for element in sorted(total):\n",
        "  length += element\n",
        "  if length >= np.sum(total)/2:\n",
        "    N50 = element\n",
        "    break\n",
        "print(f'N50 is {N50}')"
      ],
      "execution_count": 11,
      "outputs": [
        {
          "output_type": "stream",
          "name": "stdout",
          "text": [
            "The total number of contigs is 1661\n",
            "Their total length was 4029185\n",
            "the longest is 32294\n",
            "N50 is 5939\n"
          ]
        }
      ]
    },
    {
      "cell_type": "markdown",
      "metadata": {
        "id": "pCmM5k8fUpoC"
      },
      "source": [
        "### Scaffolds analysis and calculation of gaps for the longest"
      ]
    },
    {
      "cell_type": "code",
      "metadata": {
        "colab": {
          "base_uri": "https://localhost:8080/"
        },
        "id": "TJ1vdGtXkMZt",
        "outputId": "9f67a5da-24f8-4de9-fd48-59c97e5e48b0"
      },
      "source": [
        "total = []\n",
        "records = []\n",
        "with open('/content/out_scaffold.fa', 'rt') as handle:\n",
        "  for rec in SeqIO.parse(handle, 'fasta'):\n",
        "    total.append(len(rec))\n",
        "    records.append(rec)\n",
        "print(f'The total number of scaffolds is {len(total)}')\n",
        "print(f'Total length of all scaffolds equals {np.sum(total)}')\n",
        "print(f'The longest is {max(np.array(total))}')\n",
        "\n",
        "length, N50 = 0, 0\n",
        "for element in sorted(total):\n",
        "  length += element\n",
        "  if length >= np.sum(total)/2:\n",
        "    N50 = element\n",
        "    break\n",
        "print(f'N50 is {N50}')\n",
        "\n",
        "gap_count = 0\n",
        "for elem in re.findall(r'N*', str(records[0].seq)):\n",
        "  if elem!='':\n",
        "    gap_count+=1\n",
        "print(f'Total number of gaps in the longest scaffold is {gap_count}')\n",
        "\n",
        "Ncount = records[0].seq.count('N')\n",
        "print(f'Total length of gaps in the longest scaffold equals {Ncount}\\n')"
      ],
      "execution_count": 20,
      "outputs": [
        {
          "output_type": "stream",
          "name": "stdout",
          "text": [
            "The total number of scaffolds is 92\n",
            "Total length of all scaffolds equals 3876196\n",
            "The longest is 3831147\n",
            "N50 is 3831147\n",
            "Total number of gaps in the longest scaffold is 131\n",
            "Total length of gaps in the longest scaffold equals 11042\n",
            "\n"
          ]
        }
      ]
    },
    {
      "cell_type": "markdown",
      "metadata": {
        "id": "jFN_WBiOSyTY"
      },
      "source": [
        "### Calculation of gaps for the longest scaffold after gap closing"
      ]
    },
    {
      "cell_type": "code",
      "metadata": {
        "colab": {
          "base_uri": "https://localhost:8080/"
        },
        "id": "mIBjUSf5ONMy",
        "outputId": "2c290361-5aab-44b4-9265-ec027e7e8ab9"
      },
      "source": [
        "total = []\n",
        "records = []\n",
        "with open('/content/out_gapClosed.fa', 'rt') as handle:\n",
        "  for rec in SeqIO.parse(handle, 'fasta'):\n",
        "    total.append(len(rec))\n",
        "    records.append(rec)\n",
        "    break\n",
        "\n",
        "gap_count = 0\n",
        "for elem in re.findall(r'N*', str(records[0].seq)):\n",
        "  if elem!='':\n",
        "    gap_count+=1\n",
        "print(f'Total number of gaps in the longest scaffold with closed gaps is {gap_count}')\n",
        "\n",
        "Ncount = records[0].seq.count('N')\n",
        "print(f'Total length of gaps in the longest scaffold with closed gaps equals {Ncount}')"
      ],
      "execution_count": 22,
      "outputs": [
        {
          "output_type": "stream",
          "name": "stdout",
          "text": [
            "Total number of gaps in the longest scaffold with closed gaps is 9\n",
            "Total length of gaps in the longest scaffold with closed gaps equals 2120\n"
          ]
        }
      ]
    }
  ]
}