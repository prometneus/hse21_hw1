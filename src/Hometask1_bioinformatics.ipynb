{
  "nbformat": 4,
  "nbformat_minor": 0,
  "metadata": {
    "colab": {
      "name": "Hometask1 bioinformatics.ipynb",
      "provenance": [],
      "collapsed_sections": []
    },
    "kernelspec": {
      "name": "python3",
      "display_name": "Python 3"
    },
    "language_info": {
      "name": "python"
    }
  },
  "cells": [
    {
      "cell_type": "markdown",
      "metadata": {
        "id": "Pe_OB-bHjfFN"
      },
      "source": [
        "### Libraries installing and connection"
      ]
    },
    {
      "cell_type": "code",
      "metadata": {
        "colab": {
          "base_uri": "https://localhost:8080/"
        },
        "id": "7tiHqC1LJQ_J",
        "outputId": "3edcdd4d-7ac9-49d8-e5f9-b50b9bcce88e"
      },
      "source": [
        "!pip install biopython"
      ],
      "execution_count": 1,
      "outputs": [
        {
          "output_type": "stream",
          "name": "stdout",
          "text": [
            "Requirement already satisfied: biopython in /usr/local/lib/python3.7/dist-packages (1.79)\n",
            "Requirement already satisfied: numpy in /usr/local/lib/python3.7/dist-packages (from biopython) (1.19.5)\n"
          ]
        }
      ]
    },
    {
      "cell_type": "code",
      "metadata": {
        "id": "5zC5mXBxJWZ8"
      },
      "source": [
        "import Bio\n",
        "from Bio.Seq import Seq\n",
        "from Bio import SeqIO\n",
        "import numpy as np\n",
        "import re"
      ],
      "execution_count": 2,
      "outputs": []
    },
    {
      "cell_type": "markdown",
      "metadata": {
        "id": "4U3gSGsKjpln"
      },
      "source": [
        "### Contigs analysis"
      ]
    },
    {
      "cell_type": "code",
      "metadata": {
        "id": "1jsV0YqRelgs",
        "colab": {
          "base_uri": "https://localhost:8080/"
        },
        "outputId": "a21a7d41-d92b-4bff-9260-505301c7665d"
      },
      "source": [
        "total = []\n",
        "with open('/content/out_contig.fa', 'rt') as handle:\n",
        "  for rec in SeqIO.parse(handle, 'fasta'):\n",
        "    total.append(len(rec))\n",
        "print(f'The total number of contigs is {len(total)}')\n",
        "print(f'Their total length was {np.sum(total)}')\n",
        "print(f'the longest is {max(np.array(total))}')\n",
        "\n",
        "length, N50 = 0, 0\n",
        "for element in sorted(total):\n",
        "  length += element\n",
        "  if length >= np.sum(total)/2:\n",
        "    N50 = element\n",
        "    break\n",
        "print(f'N50 is {N50}')"
      ],
      "execution_count": 3,
      "outputs": [
        {
          "output_type": "stream",
          "name": "stdout",
          "text": [
            "The total number of contigs is 1661\n",
            "Their total length was 4029185\n",
            "the longest is 32294\n",
            "N50 is 5939\n"
          ]
        }
      ]
    },
    {
      "cell_type": "markdown",
      "metadata": {
        "id": "pCmM5k8fUpoC"
      },
      "source": [
        "### Scaffolds analysis and calculation of gaps for the longest"
      ]
    },
    {
      "cell_type": "code",
      "metadata": {
        "colab": {
          "base_uri": "https://localhost:8080/"
        },
        "id": "TJ1vdGtXkMZt",
        "outputId": "9695b855-73a0-4e4f-cd0e-7c08c83b1f5a"
      },
      "source": [
        "total = []\n",
        "records = []\n",
        "with open('/content/out_scaffold.fa', 'rt') as handle:\n",
        "  for rec in SeqIO.parse(handle, 'fasta'):\n",
        "    total.append(len(rec))\n",
        "    records.append(rec)\n",
        "print(f'The total number of scaffolds is {len(total)}')\n",
        "print(f'Total length of all scaffolds equals {np.sum(total)}')\n",
        "print(f'The longest is {max(np.array(total))}')\n",
        "\n",
        "length, N50 = 0, 0\n",
        "for element in sorted(total):\n",
        "  length += element\n",
        "  if length >= np.sum(total)/2:\n",
        "    N50 = element\n",
        "    break\n",
        "print(f'N50 is {N50}')\n",
        "\n",
        "gap_count = 0\n",
        "for elem in re.findall(r'N*', str(records[0].seq)):\n",
        "  if elem!='':\n",
        "    gap_count+=1\n",
        "print(f'Total number of gaps in the longest scaffold is {gap_count}')\n",
        "\n",
        "Ncount = records[0].seq.count('N')\n",
        "print(f'Total length of gaps in the longest scaffold equals {Ncount}\\n')"
      ],
      "execution_count": 4,
      "outputs": [
        {
          "output_type": "stream",
          "name": "stdout",
          "text": [
            "The total number of scaffolds is 92\n",
            "Total length of all scaffolds equals 3876196\n",
            "The longest is 3831147\n",
            "N50 is 3831147\n",
            "Total number of gaps in the longest scaffold is 131\n",
            "Total length of gaps in the longest scaffold equals 11042\n",
            "\n"
          ]
        }
      ]
    },
    {
      "cell_type": "markdown",
      "metadata": {
        "id": "jFN_WBiOSyTY"
      },
      "source": [
        "### Calculation of gaps for the longest scaffold after gap closing"
      ]
    },
    {
      "cell_type": "code",
      "metadata": {
        "colab": {
          "base_uri": "https://localhost:8080/"
        },
        "id": "mIBjUSf5ONMy",
        "outputId": "bd57b388-98ac-427b-a4c2-74b28e73bfe0"
      },
      "source": [
        "with open('/content/out_gapClosed.fa', 'rt') as handle:\n",
        "  for rec in SeqIO.parse(handle, 'fasta'):\n",
        "    gap_count = 0\n",
        "    for elem in re.findall(r'N*', str(rec.seq)):\n",
        "      if elem!='':\n",
        "        gap_count+=1\n",
        "    print(f'Total number of gaps in the longest scaffold with closed gaps is {gap_count}')\n",
        "\n",
        "    Ncount = rec.seq.count('N')\n",
        "    print(f'Total length of gaps in the longest scaffold with closed gaps equals {Ncount}')\n",
        "    break"
      ],
      "execution_count": 5,
      "outputs": [
        {
          "output_type": "stream",
          "name": "stdout",
          "text": [
            "Total number of gaps in the longest scaffold with closed gaps is 9\n",
            "Total length of gaps in the longest scaffold with closed gaps equals 2120\n"
          ]
        }
      ]
    },
    {
      "cell_type": "markdown",
      "metadata": {
        "id": "JOn5fN0kfaOf"
      },
      "source": [
        "### MINI: same analysis, but with 50% reads given"
      ]
    },
    {
      "cell_type": "code",
      "metadata": {
        "id": "-Ulwg-EwSIPA",
        "colab": {
          "base_uri": "https://localhost:8080/"
        },
        "outputId": "763b64e3-c56a-4e65-8bcc-9b9041bad0e1"
      },
      "source": [
        "total = []\n",
        "with open('/content/mini_out_contig.fa', 'rt') as handle:\n",
        "  for rec in SeqIO.parse(handle, 'fasta'):\n",
        "    total.append(len(rec))\n",
        "print(f'The total number of contigs is {len(total)}')\n",
        "print(f'Their total length was {np.sum(total)}')\n",
        "print(f'the longest is {max(np.array(total))}')\n",
        "\n",
        "length, N50 = 0, 0\n",
        "for element in sorted(total):\n",
        "  length += element\n",
        "  if length >= np.sum(total)/2:\n",
        "    N50 = element\n",
        "    break\n",
        "print(f'N50 is {N50}')"
      ],
      "execution_count": 6,
      "outputs": [
        {
          "output_type": "stream",
          "name": "stdout",
          "text": [
            "The total number of contigs is 676\n",
            "Their total length was 3922089\n",
            "the longest is 210856\n",
            "N50 is 81170\n"
          ]
        }
      ]
    },
    {
      "cell_type": "code",
      "metadata": {
        "colab": {
          "base_uri": "https://localhost:8080/"
        },
        "id": "HVmwgwznfiGD",
        "outputId": "5d5501a9-c13c-4b1d-f43a-30380fb9a541"
      },
      "source": [
        "total = []\n",
        "records = []\n",
        "with open('/content/mini_out_scaffold.fa', 'rt') as handle:\n",
        "  for rec in SeqIO.parse(handle, 'fasta'):\n",
        "    total.append(len(rec))\n",
        "    records.append(rec)\n",
        "print(f'The total number of scaffolds is {len(total)}')\n",
        "print(f'Total length of all scaffolds equals {np.sum(total)}')\n",
        "print(f'The longest is {max(np.array(total))}')\n",
        "\n",
        "length, N50 = 0, 0\n",
        "for element in sorted(total):\n",
        "  length += element\n",
        "  if length >= np.sum(total)/2:\n",
        "    N50 = element\n",
        "    break\n",
        "print(f'N50 is {N50}')\n",
        "\n",
        "gap_count = 0\n",
        "for elem in re.findall(r'N*', str(records[0].seq)):\n",
        "  if elem!='':\n",
        "    gap_count+=1\n",
        "print(f'Total number of gaps in the longest scaffold is {gap_count}')\n",
        "\n",
        "Ncount = records[0].seq.count('N')\n",
        "print(f'Total length of gaps in the longest scaffold equals {Ncount}\\n')"
      ],
      "execution_count": 7,
      "outputs": [
        {
          "output_type": "stream",
          "name": "stdout",
          "text": [
            "The total number of scaffolds is 84\n",
            "Total length of all scaffolds equals 3868546\n",
            "The longest is 3825714\n",
            "N50 is 3825714\n",
            "Total number of gaps in the longest scaffold is 68\n",
            "Total length of gaps in the longest scaffold equals 8289\n",
            "\n"
          ]
        }
      ]
    },
    {
      "cell_type": "code",
      "metadata": {
        "colab": {
          "base_uri": "https://localhost:8080/"
        },
        "id": "_WeaFTtdfsdV",
        "outputId": "7e1174fd-fd87-4dda-806c-b6c7d57ec4a4"
      },
      "source": [
        "with open('/content/mini_out_gapClosed.fa', 'rt') as handle:\n",
        "  for rec in SeqIO.parse(handle, 'fasta'):\n",
        "    gap_count = 0\n",
        "    for elem in re.findall(r'N*', str(rec.seq)):\n",
        "      if elem!='':\n",
        "        gap_count+=1\n",
        "    print(f'Total number of gaps in the longest scaffold with closed gaps is {gap_count}')\n",
        "\n",
        "    Ncount = rec.seq.count('N')\n",
        "    print(f'Total length of gaps in the longest scaffold with closed gaps equals {Ncount}')\n",
        "    break"
      ],
      "execution_count": 8,
      "outputs": [
        {
          "output_type": "stream",
          "name": "stdout",
          "text": [
            "Total number of gaps in the longest scaffold with closed gaps is 22\n",
            "Total length of gaps in the longest scaffold with closed gaps equals 4633\n"
          ]
        }
      ]
    },
    {
      "cell_type": "code",
      "metadata": {
        "id": "DGgTGvyrftxq"
      },
      "source": [
        ""
      ],
      "execution_count": 8,
      "outputs": []
    }
  ]
}