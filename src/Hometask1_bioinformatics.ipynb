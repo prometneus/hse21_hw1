{
  "nbformat": 4,
  "nbformat_minor": 0,
  "metadata": {
    "colab": {
      "name": "Hometask1 bioinformatics minor.ipynb",
      "provenance": [],
      "collapsed_sections": []
    },
    "kernelspec": {
      "name": "python3",
      "display_name": "Python 3"
    },
    "language_info": {
      "name": "python"
    }
  },
  "cells": [
    {
      "cell_type": "markdown",
      "metadata": {
        "id": "Pe_OB-bHjfFN"
      },
      "source": [
        "### Libraries installing and connection"
      ]
    },
    {
      "cell_type": "code",
      "metadata": {
        "colab": {
          "base_uri": "https://localhost:8080/"
        },
        "id": "7tiHqC1LJQ_J",
        "outputId": "2b2e0426-1c91-4fc8-9479-1cde1f516eac"
      },
      "source": [
        "!pip install biopython"
      ],
      "execution_count": 1,
      "outputs": [
        {
          "output_type": "stream",
          "name": "stdout",
          "text": [
            "Requirement already satisfied: biopython in /usr/local/lib/python3.7/dist-packages (1.79)\n",
            "Requirement already satisfied: numpy in /usr/local/lib/python3.7/dist-packages (from biopython) (1.19.5)\n"
          ]
        }
      ]
    },
    {
      "cell_type": "code",
      "metadata": {
        "id": "5zC5mXBxJWZ8"
      },
      "source": [
        "import Bio\n",
        "from Bio.Seq import Seq\n",
        "from Bio import SeqIO\n",
        "import numpy as np\n",
        "import re"
      ],
      "execution_count": 2,
      "outputs": []
    },
    {
      "cell_type": "markdown",
      "metadata": {
        "id": "4U3gSGsKjpln"
      },
      "source": [
        "### Contigs analysis"
      ]
    },
    {
      "cell_type": "code",
      "metadata": {
        "id": "1jsV0YqRelgs",
        "colab": {
          "base_uri": "https://localhost:8080/"
        },
        "outputId": "803740e6-00ab-4711-e55d-51d7aec652a9"
      },
      "source": [
        "total = []\n",
        "with open('/content/out_contig.fa', 'rt') as handle:\n",
        "  for rec in SeqIO.parse(handle, 'fasta'):\n",
        "    total.append(len(rec))\n",
        "print(f'The total number of contigs is {len(total)}')\n",
        "print(f'Their total length was {np.sum(total)}')\n",
        "print(f'the longest is {max(np.array(total))}')\n",
        "\n",
        "length, N50 = 0, 0\n",
        "for element in sorted(total):\n",
        "  length += element\n",
        "  if length >= np.sum(total)/2:\n",
        "    N50 = element\n",
        "    break\n",
        "print(f'N50 is {N50}')"
      ],
      "execution_count": 3,
      "outputs": [
        {
          "output_type": "stream",
          "name": "stdout",
          "text": [
            "The total number of contigs is 1661\n",
            "Their total length was 4029185\n",
            "the longest is 32294\n",
            "N50 is 5939\n"
          ]
        }
      ]
    },
    {
      "cell_type": "markdown",
      "metadata": {
        "id": "pCmM5k8fUpoC"
      },
      "source": [
        "### Scaffolds analysis and calculation of gaps for the longest"
      ]
    },
    {
      "cell_type": "code",
      "metadata": {
        "colab": {
          "base_uri": "https://localhost:8080/"
        },
        "id": "TJ1vdGtXkMZt",
        "outputId": "a0af0680-8efe-42ff-c786-ae02b767daf9"
      },
      "source": [
        "total = []\n",
        "records = []\n",
        "with open('/content/out_scaffold.fa', 'rt') as handle:\n",
        "  for rec in SeqIO.parse(handle, 'fasta'):\n",
        "    total.append(len(rec))\n",
        "    records.append(rec)\n",
        "print(f'The total number of scaffolds is {len(total)}')\n",
        "print(f'Total length of all scaffolds equals {np.sum(total)}')\n",
        "print(f'The longest is {max(np.array(total))}')\n",
        "\n",
        "length, N50 = 0, 0\n",
        "for element in sorted(total):\n",
        "  length += element\n",
        "  if length >= np.sum(total)/2:\n",
        "    N50 = element\n",
        "    break\n",
        "print(f'N50 is {N50}')\n",
        "\n",
        "gap_count = 0\n",
        "for elem in re.findall(r'N*', str(records[0].seq)):\n",
        "  if elem!='':\n",
        "    gap_count+=1\n",
        "print(f'Total number of gaps in the longest scaffold is {gap_count}')\n",
        "\n",
        "Ncount = records[0].seq.count('N')\n",
        "print(f'Total length of gaps in the longest scaffold equals {Ncount}\\n')"
      ],
      "execution_count": 4,
      "outputs": [
        {
          "output_type": "stream",
          "name": "stdout",
          "text": [
            "The total number of scaffolds is 92\n",
            "Total length of all scaffolds equals 3876196\n",
            "The longest is 3831147\n",
            "N50 is 3831147\n",
            "Total number of gaps in the longest scaffold is 131\n",
            "Total length of gaps in the longest scaffold equals 11042\n",
            "\n"
          ]
        }
      ]
    },
    {
      "cell_type": "markdown",
      "metadata": {
        "id": "jFN_WBiOSyTY"
      },
      "source": [
        "### Calculation of gaps for the longest scaffold after gap closing"
      ]
    },
    {
      "cell_type": "code",
      "metadata": {
        "colab": {
          "base_uri": "https://localhost:8080/"
        },
        "id": "mIBjUSf5ONMy",
        "outputId": "6525f953-a649-4ba5-b900-0bf021bc7565"
      },
      "source": [
        "total = []\n",
        "records = []\n",
        "with open('/content/out_gapClosed.fa', 'rt') as handle:\n",
        "  for rec in SeqIO.parse(handle, 'fasta'):\n",
        "    total.append(len(rec))\n",
        "    records.append(rec)\n",
        "    break\n",
        "\n",
        "gap_count = 0\n",
        "for elem in re.findall(r'N*', str(records[0].seq)):\n",
        "  if elem!='':\n",
        "    gap_count+=1\n",
        "print(f'Total number of gaps in the longest scaffold with closed gaps is {gap_count}')\n",
        "\n",
        "Ncount = records[0].seq.count('N')\n",
        "print(f'Total length of gaps in the longest scaffold with closed gaps equals {Ncount}')"
      ],
      "execution_count": 5,
      "outputs": [
        {
          "output_type": "stream",
          "name": "stdout",
          "text": [
            "Total number of gaps in the longest scaffold with closed gaps is 9\n",
            "Total length of gaps in the longest scaffold with closed gaps equals 2120\n"
          ]
        }
      ]
    },
    {
      "cell_type": "code",
      "metadata": {
        "id": "-Ulwg-EwSIPA"
      },
      "source": [
        ""
      ],
      "execution_count": null,
      "outputs": []
    }
  ]
}